{
 "cells": [
  {
   "cell_type": "code",
   "execution_count": 1,
   "id": "4c526e63-cb0f-449c-afa4-6aac35ea4d02",
   "metadata": {},
   "outputs": [],
   "source": [
    "from IPython.display import clear_output\n",
    "gameboard = [' ',' ',' ',' ',' ',' ',' ',' ',' ']\n",
    "\n"
   ]
  },
  {
   "cell_type": "code",
   "execution_count": 2,
   "id": "96acf664-7bf0-471f-8fac-1a7c59a1c1f6",
   "metadata": {},
   "outputs": [],
   "source": [
    "def display_game():\n",
    "    clear_output()\n",
    "    print (f'{gameboard[6]} | {gameboard[7]} | {gameboard[8]}')\n",
    "    print (f'{gameboard[3]} | {gameboard[4]} | {gameboard[5]}')\n",
    "    print (f'{gameboard[0]} | {gameboard[1]} | {gameboard[2]}')"
   ]
  },
  {
   "cell_type": "code",
   "execution_count": 3,
   "id": "fb19d8a7-7f9c-4b9e-98fd-81e29019d623",
   "metadata": {},
   "outputs": [],
   "source": [
    "def wincheck():\n",
    "    if(gameboard[0]==gameboard[1]==gameboard[2] and gameboard[0] != ' '):\n",
    "        print(gameboard[0] + ' is Winner!')\n",
    "        return True\n",
    "    elif(gameboard[3]==gameboard[4]==gameboard[5] and gameboard[3] != ' '):\n",
    "        print(gameboard[3] + ' is Winner!')\n",
    "        return True\n",
    "    elif(gameboard[6]==gameboard[7]==gameboard[8] and gameboard[6] != ' '):\n",
    "        print(gameboard[6] + ' is Winner!')\n",
    "        return True\n",
    "    elif(gameboard[0]==gameboard[3]==gameboard[6] and gameboard[0] != ' '):\n",
    "        print(gameboard[0] + ' is Winner!')\n",
    "        return True\n",
    "    elif(gameboard[1]==gameboard[4]==gameboard[7] and gameboard[1] != ' '):\n",
    "        print(gameboard[1] + ' is Winner!')\n",
    "        return True\n",
    "    elif(gameboard[2]==gameboard[5]==gameboard[8] and gameboard[2] != ' '):\n",
    "        print(gameboard[2] + ' is Winner!')\n",
    "        return True\n",
    "    elif(gameboard[0]==gameboard[4]==gameboard[8] and gameboard[0] != ' '):\n",
    "        print(gameboard[0] + ' is Winner!')\n",
    "        return True\n",
    "    elif(gameboard[6]==gameboard[4]==gameboard[2] and gameboard[6] != ' '):\n",
    "        print(gameboard[6] + ' is Winner!')\n",
    "        return True\n",
    "    else:\n",
    "        return False\n",
    "    "
   ]
  },
  {
   "cell_type": "code",
   "execution_count": 4,
   "id": "1b6d788e-43a1-40f9-8e8c-f8d854a3e500",
   "metadata": {},
   "outputs": [],
   "source": [
    "def fullboardTie():\n",
    "    isFull = True\n",
    "    for item in gameboard:\n",
    "        if item == ' ':\n",
    "            isFull = False\n",
    "    if(isFull):\n",
    "        if wincheck() == False:\n",
    "            return True\n",
    "        else:\n",
    "            return False"
   ]
  },
  {
   "cell_type": "code",
   "execution_count": 5,
   "id": "56a04bfa-3ee8-4d21-b55c-3c846e53d7fa",
   "metadata": {},
   "outputs": [],
   "source": [
    "def choosePosition():\n",
    "    marker = 'X'\n",
    "    \n",
    "    while True:\n",
    "        if(marker == 'X'):\n",
    "            isFalse = True\n",
    "            while isFalse:\n",
    "                inputValue = input('place position for X between (1-9): ')\n",
    "                if not (inputValue.isdigit() and 1<=int(inputValue)<=9):\n",
    "                    print('Invalid Input.')\n",
    "                    \n",
    "                elif (gameboard[int(inputValue)-1] != ' '):\n",
    "                    print('That position is already full.')\n",
    "                else:\n",
    "                    isFalse = False   \n",
    "                    gameboard[int(inputValue) - 1] = marker\n",
    "                    marker = 'O'\n",
    "                    display_game()\n",
    "            \n",
    "            if(wincheck()):\n",
    "                break\n",
    "            if(fullboardTie()):\n",
    "                print('Tie Game!')\n",
    "            \n",
    "        else:\n",
    "            isFalse = True\n",
    "            while isFalse:\n",
    "                inputValue = input('place position for O between (1-9): ')\n",
    "                if not (inputValue.isdigit() and 1<=int(inputValue)<=9):\n",
    "                    print('Invalid Input.')\n",
    "                    \n",
    "                elif (gameboard[int(inputValue)-1] != ' '):\n",
    "                    print('That position is already full.')\n",
    "                else:\n",
    "                    isFalse = False   \n",
    "                    gameboard[int(inputValue) - 1] = marker\n",
    "                    marker = 'X'\n",
    "                    display_game()\n",
    "            if(wincheck()):\n",
    "                break\n",
    "            if(fullboardTie()):\n",
    "                print('Tie Game!')\n"
   ]
  },
  {
   "cell_type": "code",
   "execution_count": 6,
   "id": "95f76b5f-2fd2-467c-9e21-b8abc8bf24a9",
   "metadata": {},
   "outputs": [],
   "source": [
    "def askAgain():\n",
    "    result = ' '\n",
    "    while True:\n",
    "        result = input('Want to do it again?(Y/N): ').upper()\n",
    "        if(result == 'Y' or result == 'N'):\n",
    "            break\n",
    "        else:\n",
    "            print('Please answer between Y and N')\n",
    "    return result"
   ]
  },
  {
   "cell_type": "code",
   "execution_count": 7,
   "id": "0062a3ea-f17d-4074-99de-ad5e4b1887d2",
   "metadata": {},
   "outputs": [],
   "source": [
    "def resetgameBoard():\n",
    "    for i in range(len(gameboard)):\n",
    "        gameboard[i] = ' '\n",
    "    print(gameboard)\n"
   ]
  },
  {
   "cell_type": "code",
   "execution_count": 8,
   "id": "e0ef09f1-f707-4823-a19a-7259a936f015",
   "metadata": {},
   "outputs": [
    {
     "name": "stdout",
     "output_type": "stream",
     "text": [
      "X |   |  \n",
      "O | X | O\n",
      "X | O | X\n",
      "X is Winner!\n"
     ]
    },
    {
     "name": "stdin",
     "output_type": "stream",
     "text": [
      "Want to do it again?(Y/N):  n\n"
     ]
    }
   ],
   "source": [
    "#Game Play using modules defined above.\n",
    "while True:\n",
    "    resetgameBoard()\n",
    "    display_game()\n",
    "    choosePosition()\n",
    "    \n",
    "    if(askAgain() == 'Y'):\n",
    "        resetgameBoard()\n",
    "    else:\n",
    "        break"
   ]
  },
  {
   "cell_type": "code",
   "execution_count": null,
   "id": "9cf79fe1-1800-4cd5-9bf0-9b0cc9ff70c0",
   "metadata": {},
   "outputs": [],
   "source": []
  }
 ],
 "metadata": {
  "kernelspec": {
   "display_name": "Python [conda env:base] *",
   "language": "python",
   "name": "conda-base-py"
  },
  "language_info": {
   "codemirror_mode": {
    "name": "ipython",
    "version": 3
   },
   "file_extension": ".py",
   "mimetype": "text/x-python",
   "name": "python",
   "nbconvert_exporter": "python",
   "pygments_lexer": "ipython3",
   "version": "3.12.7"
  }
 },
 "nbformat": 4,
 "nbformat_minor": 5
}
