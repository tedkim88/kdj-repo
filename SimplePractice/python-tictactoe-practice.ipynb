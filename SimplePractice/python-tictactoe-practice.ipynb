{
 "cells": [
  {
   "cell_type": "code",
   "execution_count": 18,
   "id": "4c526e63-cb0f-449c-afa4-6aac35ea4d02",
   "metadata": {},
   "outputs": [],
   "source": [
    "from IPython.display import clear_output\n",
    "gameboard = [' ',' ',' ',' ',' ',' ',' ',' ',' ']\n",
    "\n"
   ]
  },
  {
   "cell_type": "code",
   "execution_count": 19,
   "id": "96acf664-7bf0-471f-8fac-1a7c59a1c1f6",
   "metadata": {},
   "outputs": [],
   "source": [
    "def display_game():\n",
    "    clear_output()\n",
    "    print (f'{gameboard[6]} | {gameboard[7]} | {gameboard[8]}')\n",
    "    print (f'{gameboard[3]} | {gameboard[4]} | {gameboard[5]}')\n",
    "    print (f'{gameboard[0]} | {gameboard[1]} | {gameboard[2]}')"
   ]
  },
  {
   "cell_type": "code",
   "execution_count": 20,
   "id": "fb19d8a7-7f9c-4b9e-98fd-81e29019d623",
   "metadata": {},
   "outputs": [],
   "source": [
    "def wincheck():\n",
    "    if(gameboard[0]==gameboard[1]==gameboard[2] and gameboard[0] != ' '):\n",
    "        print(gameboard[0] + ' is Winner!')\n",
    "        return True\n",
    "    elif(gameboard[3]==gameboard[4]==gameboard[5] and gameboard[3] != ' '):\n",
    "        print(gameboard[3] + ' is Winner!')\n",
    "        return True\n",
    "    elif(gameboard[6]==gameboard[7]==gameboard[8] and gameboard[6] != ' '):\n",
    "        print(gameboard[6] + ' is Winner!')\n",
    "        return True\n",
    "    elif(gameboard[0]==gameboard[3]==gameboard[6] and gameboard[0] != ' '):\n",
    "        print(gameboard[0] + ' is Winner!')\n",
    "        return True\n",
    "    elif(gameboard[1]==gameboard[4]==gameboard[7] and gameboard[1] != ' '):\n",
    "        print(gameboard[1] + ' is Winner!')\n",
    "        return True\n",
    "    elif(gameboard[2]==gameboard[5]==gameboard[8] and gameboard[2] != ' '):\n",
    "        print(gameboard[2] + ' is Winner!')\n",
    "        return True\n",
    "    elif(gameboard[0]==gameboard[4]==gameboard[8] and gameboard[0] != ' '):\n",
    "        print(gameboard[0] + ' is Winner!')\n",
    "        return True\n",
    "    elif(gameboard[6]==gameboard[4]==gameboard[2] and gameboard[6] != ' '):\n",
    "        print(gameboard[6] + ' is Winner!')\n",
    "        return True\n",
    "    else:\n",
    "        return False\n",
    "    "
   ]
  },
  {
   "cell_type": "code",
   "execution_count": 21,
   "id": "1b6d788e-43a1-40f9-8e8c-f8d854a3e500",
   "metadata": {},
   "outputs": [],
   "source": [
    "def fullboardTie():\n",
    "    isFull = True\n",
    "    for item in gameboard:\n",
    "        if item == ' ':\n",
    "            isFull = False\n",
    "    if(isFull):\n",
    "        if wincheck() == False:\n",
    "            return True\n",
    "        else:\n",
    "            return False"
   ]
  },
  {
   "cell_type": "code",
   "execution_count": 22,
   "id": "56a04bfa-3ee8-4d21-b55c-3c846e53d7fa",
   "metadata": {},
   "outputs": [],
   "source": [
    "def choosePosition():\n",
    "    marker = 'X'\n",
    "    \n",
    "    while True:\n",
    "        if(marker == 'X'):\n",
    "            isFalse = True\n",
    "            while isFalse:\n",
    "                inputValue = input('place position for X between (1-9): ')\n",
    "                if not (inputValue.isdigit() and 1<=int(inputValue)<=9):\n",
    "                    print('Invalid Input.')\n",
    "                    \n",
    "                elif (gameboard[int(inputValue)-1] != ' '):\n",
    "                    print('That position is already full.')\n",
    "                else:\n",
    "                    isFalse = False   \n",
    "                    gameboard[int(inputValue) - 1] = marker\n",
    "                    marker = 'O'\n",
    "                    display_game()\n",
    "            \n",
    "            if(wincheck()):\n",
    "                break\n",
    "            if(fullboardTie()):\n",
    "                print('Tie Game!')\n",
    "            \n",
    "        else:\n",
    "            isFalse = True\n",
    "            while isFalse:\n",
    "                inputValue = input('place position for O between (1-9): ')\n",
    "                if not (inputValue.isdigit() and 1<=int(inputValue)<=9):\n",
    "                    print('Invalid Input.')\n",
    "                    \n",
    "                elif (gameboard[int(inputValue)-1] != ' '):\n",
    "                    print('That position is already full.')\n",
    "                else:\n",
    "                    isFalse = False   \n",
    "                    gameboard[int(inputValue) - 1] = marker\n",
    "                    marker = 'X'\n",
    "                    display_game()\n",
    "            if(wincheck()):\n",
    "                break\n",
    "            if(fullboardTie()):\n",
    "                print('Tie Game!')\n"
   ]
  },
  {
   "cell_type": "code",
   "execution_count": 23,
   "id": "95f76b5f-2fd2-467c-9e21-b8abc8bf24a9",
   "metadata": {},
   "outputs": [],
   "source": [
    "def askAgain():\n",
    "    result = ' '\n",
    "    while True:\n",
    "        result = input('Want to do it again?(Y/N): ').upper()\n",
    "        if(result == 'Y' or result == 'N'):\n",
    "            break\n",
    "        else:\n",
    "            print('Please answer between Y and N')\n",
    "    return result"
   ]
  },
  {
   "cell_type": "code",
   "execution_count": 24,
   "id": "0062a3ea-f17d-4074-99de-ad5e4b1887d2",
   "metadata": {},
   "outputs": [],
   "source": [
    "def resetgameBoard():\n",
    "    for i in range(len(gameboard)):\n",
    "        gameboard[i] = ' '\n",
    "    print(gameboard)\n"
   ]
  },
  {
   "cell_type": "code",
   "execution_count": 25,
   "id": "e0ef09f1-f707-4823-a19a-7259a936f015",
   "metadata": {},
   "outputs": [
    {
     "name": "stdout",
     "output_type": "stream",
     "text": [
      "X | O | X\n",
      "O | X | O\n",
      "X | X | O\n",
      "X is Winner!\n"
     ]
    },
    {
     "name": "stdin",
     "output_type": "stream",
     "text": [
      "Want to do it again?(Y/N):  \n"
     ]
    },
    {
     "name": "stdout",
     "output_type": "stream",
     "text": [
      "Please answer between Y and N\n"
     ]
    },
    {
     "ename": "KeyboardInterrupt",
     "evalue": "Interrupted by user",
     "output_type": "error",
     "traceback": [
      "\u001b[1;31m---------------------------------------------------------------------------\u001b[0m",
      "\u001b[1;31mKeyboardInterrupt\u001b[0m                         Traceback (most recent call last)",
      "Cell \u001b[1;32mIn[25], line 7\u001b[0m\n\u001b[0;32m      4\u001b[0m display_game()\n\u001b[0;32m      5\u001b[0m choosePosition()\n\u001b[1;32m----> 7\u001b[0m \u001b[38;5;28;01mif\u001b[39;00m(askAgain() \u001b[38;5;241m==\u001b[39m \u001b[38;5;124m'\u001b[39m\u001b[38;5;124mY\u001b[39m\u001b[38;5;124m'\u001b[39m):\n\u001b[0;32m      8\u001b[0m     resetgameBoard()\n\u001b[0;32m      9\u001b[0m \u001b[38;5;28;01melse\u001b[39;00m:\n",
      "Cell \u001b[1;32mIn[23], line 4\u001b[0m, in \u001b[0;36maskAgain\u001b[1;34m()\u001b[0m\n\u001b[0;32m      2\u001b[0m result \u001b[38;5;241m=\u001b[39m \u001b[38;5;124m'\u001b[39m\u001b[38;5;124m \u001b[39m\u001b[38;5;124m'\u001b[39m\n\u001b[0;32m      3\u001b[0m \u001b[38;5;28;01mwhile\u001b[39;00m \u001b[38;5;28;01mTrue\u001b[39;00m:\n\u001b[1;32m----> 4\u001b[0m     result \u001b[38;5;241m=\u001b[39m \u001b[38;5;28minput\u001b[39m(\u001b[38;5;124m'\u001b[39m\u001b[38;5;124mWant to do it again?(Y/N): \u001b[39m\u001b[38;5;124m'\u001b[39m)\u001b[38;5;241m.\u001b[39mupper()\n\u001b[0;32m      5\u001b[0m     \u001b[38;5;28;01mif\u001b[39;00m(result \u001b[38;5;241m==\u001b[39m \u001b[38;5;124m'\u001b[39m\u001b[38;5;124mY\u001b[39m\u001b[38;5;124m'\u001b[39m \u001b[38;5;129;01mor\u001b[39;00m result \u001b[38;5;241m==\u001b[39m \u001b[38;5;124m'\u001b[39m\u001b[38;5;124mN\u001b[39m\u001b[38;5;124m'\u001b[39m):\n\u001b[0;32m      6\u001b[0m         \u001b[38;5;28;01mbreak\u001b[39;00m\n",
      "File \u001b[1;32m~\\anaconda3\\Lib\\site-packages\\ipykernel\\kernelbase.py:1262\u001b[0m, in \u001b[0;36mKernel.raw_input\u001b[1;34m(self, prompt)\u001b[0m\n\u001b[0;32m   1260\u001b[0m     msg \u001b[38;5;241m=\u001b[39m \u001b[38;5;124m\"\u001b[39m\u001b[38;5;124mraw_input was called, but this frontend does not support input requests.\u001b[39m\u001b[38;5;124m\"\u001b[39m\n\u001b[0;32m   1261\u001b[0m     \u001b[38;5;28;01mraise\u001b[39;00m StdinNotImplementedError(msg)\n\u001b[1;32m-> 1262\u001b[0m \u001b[38;5;28;01mreturn\u001b[39;00m \u001b[38;5;28mself\u001b[39m\u001b[38;5;241m.\u001b[39m_input_request(\n\u001b[0;32m   1263\u001b[0m     \u001b[38;5;28mstr\u001b[39m(prompt),\n\u001b[0;32m   1264\u001b[0m     \u001b[38;5;28mself\u001b[39m\u001b[38;5;241m.\u001b[39m_parent_ident[\u001b[38;5;124m\"\u001b[39m\u001b[38;5;124mshell\u001b[39m\u001b[38;5;124m\"\u001b[39m],\n\u001b[0;32m   1265\u001b[0m     \u001b[38;5;28mself\u001b[39m\u001b[38;5;241m.\u001b[39mget_parent(\u001b[38;5;124m\"\u001b[39m\u001b[38;5;124mshell\u001b[39m\u001b[38;5;124m\"\u001b[39m),\n\u001b[0;32m   1266\u001b[0m     password\u001b[38;5;241m=\u001b[39m\u001b[38;5;28;01mFalse\u001b[39;00m,\n\u001b[0;32m   1267\u001b[0m )\n",
      "File \u001b[1;32m~\\anaconda3\\Lib\\site-packages\\ipykernel\\kernelbase.py:1305\u001b[0m, in \u001b[0;36mKernel._input_request\u001b[1;34m(self, prompt, ident, parent, password)\u001b[0m\n\u001b[0;32m   1302\u001b[0m \u001b[38;5;28;01mexcept\u001b[39;00m \u001b[38;5;167;01mKeyboardInterrupt\u001b[39;00m:\n\u001b[0;32m   1303\u001b[0m     \u001b[38;5;66;03m# re-raise KeyboardInterrupt, to truncate traceback\u001b[39;00m\n\u001b[0;32m   1304\u001b[0m     msg \u001b[38;5;241m=\u001b[39m \u001b[38;5;124m\"\u001b[39m\u001b[38;5;124mInterrupted by user\u001b[39m\u001b[38;5;124m\"\u001b[39m\n\u001b[1;32m-> 1305\u001b[0m     \u001b[38;5;28;01mraise\u001b[39;00m \u001b[38;5;167;01mKeyboardInterrupt\u001b[39;00m(msg) \u001b[38;5;28;01mfrom\u001b[39;00m \u001b[38;5;28;01mNone\u001b[39;00m\n\u001b[0;32m   1306\u001b[0m \u001b[38;5;28;01mexcept\u001b[39;00m \u001b[38;5;167;01mException\u001b[39;00m:\n\u001b[0;32m   1307\u001b[0m     \u001b[38;5;28mself\u001b[39m\u001b[38;5;241m.\u001b[39mlog\u001b[38;5;241m.\u001b[39mwarning(\u001b[38;5;124m\"\u001b[39m\u001b[38;5;124mInvalid Message:\u001b[39m\u001b[38;5;124m\"\u001b[39m, exc_info\u001b[38;5;241m=\u001b[39m\u001b[38;5;28;01mTrue\u001b[39;00m)\n",
      "\u001b[1;31mKeyboardInterrupt\u001b[0m: Interrupted by user"
     ]
    }
   ],
   "source": [
    "#Game Play using modules defined above.\n",
    "while True:\n",
    "    resetgameBoard()\n",
    "    display_game()\n",
    "    choosePosition()\n",
    "    \n",
    "    if(askAgain() == 'Y'):\n",
    "        resetgameBoard()\n",
    "    else:\n",
    "        break"
   ]
  },
  {
   "cell_type": "code",
   "execution_count": null,
   "id": "9cf79fe1-1800-4cd5-9bf0-9b0cc9ff70c0",
   "metadata": {},
   "outputs": [],
   "source": []
  }
 ],
 "metadata": {
  "kernelspec": {
   "display_name": "Python [conda env:base] *",
   "language": "python",
   "name": "conda-base-py"
  },
  "language_info": {
   "codemirror_mode": {
    "name": "ipython",
    "version": 3
   },
   "file_extension": ".py",
   "mimetype": "text/x-python",
   "name": "python",
   "nbconvert_exporter": "python",
   "pygments_lexer": "ipython3",
   "version": "3.12.7"
  }
 },
 "nbformat": 4,
 "nbformat_minor": 5
}
